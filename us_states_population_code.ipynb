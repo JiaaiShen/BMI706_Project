{
 "cells": [
  {
   "cell_type": "code",
   "execution_count": 3,
   "metadata": {},
   "outputs": [],
   "source": [
    "import pandas as pd"
   ]
  },
  {
   "cell_type": "code",
   "execution_count": 5,
   "metadata": {},
   "outputs": [],
   "source": [
    "data1019 = pd.read_csv('data/nst-est2019-popchg2010_2019.csv')\n",
    "data2022 = pd.read_csv('data/NST-EST2022-POPCHG2020_2022.csv')"
   ]
  },
  {
   "cell_type": "code",
   "execution_count": 8,
   "metadata": {},
   "outputs": [],
   "source": [
    "data1019_clean = data1019[['STATE', 'NAME', 'POPESTIMATE2010', 'POPESTIMATE2011', 'POPESTIMATE2012',\n",
    "       'POPESTIMATE2013', 'POPESTIMATE2014', 'POPESTIMATE2015',\n",
    "       'POPESTIMATE2016', 'POPESTIMATE2017', 'POPESTIMATE2018',\n",
    "       'POPESTIMATE2019']]"
   ]
  },
  {
   "cell_type": "code",
   "execution_count": 11,
   "metadata": {},
   "outputs": [],
   "source": [
    "data1019_clean.columns = ['id','name','2010','2011','2012','2013','2014','2015','2016','2017','2018','2019']"
   ]
  },
  {
   "cell_type": "code",
   "execution_count": 19,
   "metadata": {},
   "outputs": [],
   "source": [
    "data2022_clean = data2022[['NAME', 'POPESTIMATE2020']]"
   ]
  },
  {
   "cell_type": "code",
   "execution_count": 20,
   "metadata": {},
   "outputs": [],
   "source": [
    "data2022_clean.columns = ['name', '2020']"
   ]
  },
  {
   "cell_type": "code",
   "execution_count": 22,
   "metadata": {},
   "outputs": [],
   "source": [
    "statesppl_data = data1019_clean.merge(data2022_clean, how = 'left', on = 'name')"
   ]
  },
  {
   "cell_type": "code",
   "execution_count": 29,
   "metadata": {},
   "outputs": [],
   "source": [
    "stateppl_data = statesppl_data.iloc[5:].reset_index(drop = True)"
   ]
  },
  {
   "cell_type": "code",
   "execution_count": 30,
   "metadata": {},
   "outputs": [],
   "source": [
    "stateppl_data.to_csv('stateppl.csv', index=False)"
   ]
  }
 ],
 "metadata": {
  "kernelspec": {
   "display_name": "Python 3",
   "language": "python",
   "name": "python3"
  },
  "language_info": {
   "codemirror_mode": {
    "name": "ipython",
    "version": 3
   },
   "file_extension": ".py",
   "mimetype": "text/x-python",
   "name": "python",
   "nbconvert_exporter": "python",
   "pygments_lexer": "ipython3",
   "version": "3.9.7"
  },
  "orig_nbformat": 4,
  "vscode": {
   "interpreter": {
    "hash": "aee8b7b246df8f9039afb4144a1f6fd8d2ca17a180786b69acc140d282b71a49"
   }
  }
 },
 "nbformat": 4,
 "nbformat_minor": 2
}
